{
 "cells": [
  {
   "cell_type": "markdown",
   "id": "cdefb0c3-e8a1-437d-9f06-c061fde96dfa",
   "metadata": {},
   "source": [
    "Q1, Create a vehicle class with an init method having instance variables as name_of_vehicle, max_speed\n",
    "and average_of_vehicle. "
   ]
  },
  {
   "cell_type": "code",
   "execution_count": 3,
   "id": "634f3d6c-31cb-4c12-be7d-dd789730b653",
   "metadata": {},
   "outputs": [],
   "source": [
    "class vehicle:\n",
    "    def __init__(self, name_of_vehicle, max_speed, average_of_vehicle):\n",
    "        self.name_of_vehicle = name_of_vehicle\n",
    "        self.max_speed = max_speed\n",
    "        self.average_of_vehicle = average_of_vehicle"
   ]
  },
  {
   "cell_type": "markdown",
   "id": "d84d466a-f87c-448c-bb18-97461c906dff",
   "metadata": {},
   "source": [
    "Q2.  Create a child class car from the vehicle class created in Que 1, which will inherit the vehicle class.\n",
    "Create a method named seating_capacity which takes capacity as an argument and returns the name of\n",
    "the vehicle and its seating capacity."
   ]
  },
  {
   "cell_type": "code",
   "execution_count": 4,
   "id": "50c95cd5-5c39-410f-9f40-a13a00318309",
   "metadata": {},
   "outputs": [],
   "source": [
    "class car(vehicle):\n",
    "    def setting_capacity(self, capacity):\n",
    "        self.capacity = capacity\n",
    "        return self.name_of_vehicle, self.capacity "
   ]
  },
  {
   "cell_type": "code",
   "execution_count": 6,
   "id": "9929fc8b-8544-418d-8273-d4d38eb81fde",
   "metadata": {},
   "outputs": [
    {
     "data": {
      "text/plain": [
       "('BMW', 5)"
      ]
     },
     "execution_count": 6,
     "metadata": {},
     "output_type": "execute_result"
    }
   ],
   "source": [
    "c1 = car(\"BMW\",400,400)\n",
    "c1.setting_capacity(5)"
   ]
  },
  {
   "cell_type": "markdown",
   "id": "23a8a1d5-a2b1-46e2-942d-b1c76b49dd86",
   "metadata": {},
   "source": [
    "Q3. What is multiple inheritance? Write a python code to demonstrate multiple inheritance."
   ]
  },
  {
   "cell_type": "markdown",
   "id": "279e2edd-affb-4e41-b791-0fe0bebf2672",
   "metadata": {},
   "source": [
    "Multiple inheritance is a feature of object-oriented programming (OOP) languages where a class can inherit properties and methods from more than one parent class. \n",
    "In other words, a class can inherit from multiple classes, thus inheriting the attributes and behaviors of all its parent classes."
   ]
  },
  {
   "cell_type": "markdown",
   "id": "496b1d92-2d68-4c22-8a9b-063dc648ba6f",
   "metadata": {},
   "source": [
    "example of multiple inheritance in Python:"
   ]
  },
  {
   "cell_type": "code",
   "execution_count": 8,
   "id": "03f2ba7e-6cda-47bc-8d93-47f21a623fd2",
   "metadata": {},
   "outputs": [
    {
     "name": "stdout",
     "output_type": "stream",
     "text": [
      "parent1 method1\n",
      "parent2 method2\n"
     ]
    }
   ],
   "source": [
    "class Parent1:\n",
    "    def method1(self):\n",
    "        print(\"parent1 method1\")\n",
    "        \n",
    "class Parent2:\n",
    "    def method2(self):\n",
    "        print(\"parent2 method2\")\n",
    "        \n",
    "class child(Parent1,Parent2):\n",
    "    pass\n",
    "\n",
    "c = child()\n",
    "c.method1()\n",
    "c.method2()"
   ]
  },
  {
   "cell_type": "markdown",
   "id": "18c578a2-a8e7-41f5-8397-dc56d49b5374",
   "metadata": {},
   "source": [
    "Q4. What are getter and setter in python? Create a class and create a getter and a setter method in this class."
   ]
  },
  {
   "cell_type": "markdown",
   "id": "37cdd555-80f4-4849-a084-69979d3160ca",
   "metadata": {},
   "source": [
    "In object-oriented programming, getters and setters are methods used to retrieve and update the values of object properties, respectively. \n",
    "The use of getters and setters is a common technique for encapsulating object data and ensuring that it can be accessed and modified in a controlled and predictable manner."
   ]
  },
  {
   "cell_type": "code",
   "execution_count": 11,
   "id": "9d29ef4f-a64d-4fcd-8455-baef0419bdda",
   "metadata": {},
   "outputs": [
    {
     "name": "stdout",
     "output_type": "stream",
     "text": [
      "shubham singh\n",
      "harsh mohan\n"
     ]
    }
   ],
   "source": [
    "class Person:\n",
    "    def __init__(self, name):\n",
    "        self._name = name\n",
    "\n",
    "    def get_name(self):\n",
    "        return self._name\n",
    "\n",
    "    def set_name(self, name):\n",
    "        self._name = name\n",
    "\n",
    "person = Person(\"shubham singh\")\n",
    "print(person.get_name()) \n",
    "person.set_name(\"harsh mohan\")\n",
    "print(person.get_name()) "
   ]
  },
  {
   "cell_type": "markdown",
   "id": "5d8538d0-8252-4395-8fcb-fce70fdf434a",
   "metadata": {},
   "source": [
    "Q5.What is method overriding in python? Write a python code to demonstrate method overriding."
   ]
  },
  {
   "cell_type": "markdown",
   "id": "329c21b1-12a0-4b5a-9af7-8d481eae0a63",
   "metadata": {},
   "source": [
    "Method overriding is a feature of object-oriented programming in which a subclass can provide a new implementation of a method that is already defined in its parent class. \n",
    "The subclass method is said to \"override\" the parent class method. \n",
    "This allows the subclass to change or extend the behavior of the method inherited from the parent class, while still maintaining the same method signature."
   ]
  },
  {
   "cell_type": "code",
   "execution_count": 12,
   "id": "979b6488-d7e6-4b93-968e-850e2eadb529",
   "metadata": {},
   "outputs": [
    {
     "name": "stdout",
     "output_type": "stream",
     "text": [
      "500\n",
      "803.84\n"
     ]
    }
   ],
   "source": [
    "class Shape:\n",
    "    def area(self):\n",
    "        pass\n",
    "\n",
    "class Rectangle(Shape):\n",
    "    def __init__(self, width, height):\n",
    "        self.width = width\n",
    "        self.height = height\n",
    "\n",
    "    def area(self):\n",
    "        return self.width * self.height\n",
    "\n",
    "class Circle(Shape):\n",
    "    def __init__(self, radius):\n",
    "        self.radius = radius\n",
    "\n",
    "    def area(self):\n",
    "        return 3.14 * self.radius * self.radius\n",
    "\n",
    "rect = Rectangle(25, 20)\n",
    "print(rect.area()) \n",
    "\n",
    "circle = Circle(16)\n",
    "print(circle.area()) "
   ]
  },
  {
   "cell_type": "code",
   "execution_count": null,
   "id": "588d9f08-7bc3-4a0d-b413-44c0b4e9bc1f",
   "metadata": {},
   "outputs": [],
   "source": []
  }
 ],
 "metadata": {
  "kernelspec": {
   "display_name": "Python 3 (ipykernel)",
   "language": "python",
   "name": "python3"
  },
  "language_info": {
   "codemirror_mode": {
    "name": "ipython",
    "version": 3
   },
   "file_extension": ".py",
   "mimetype": "text/x-python",
   "name": "python",
   "nbconvert_exporter": "python",
   "pygments_lexer": "ipython3",
   "version": "3.10.8"
  }
 },
 "nbformat": 4,
 "nbformat_minor": 5
}
